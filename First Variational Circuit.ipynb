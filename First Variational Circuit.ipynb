{
 "cells": [
  {
   "cell_type": "code",
   "execution_count": 1,
   "id": "ffaca3e5-305c-4a40-bb62-cf121cb25eb7",
   "metadata": {},
   "outputs": [
    {
     "name": "stderr",
     "output_type": "stream",
     "text": [
      "<frozen importlib._bootstrap>:219: RuntimeWarning: scipy._lib.messagestream.MessageStream size changed, may indicate binary incompatibility. Expected 56 from C header, got 64 from PyObject\n"
     ]
    }
   ],
   "source": [
    "import numpy as np\n",
    "\n",
    "# Importing standard Qiskit libraries\n",
    "from qiskit import QuantumCircuit, transpile, Aer, IBMQ\n",
    "from qiskit.tools.jupyter import *\n",
    "from qiskit.visualization import *\n",
    "from ibm_quantum_widgets import *\n",
    "from qiskit.providers.aer import QasmSimulator\n",
    "\n",
    "# Loading your IBM Quantum account(s)\n",
    "provider = IBMQ.load_account()"
   ]
  },
  {
   "cell_type": "markdown",
   "id": "44dd1bd8-52cc-42ab-9be8-8cef2ccd418b",
   "metadata": {
    "jp-MarkdownHeadingCollapsed": true,
    "tags": []
   },
   "source": [
    "### Part of my code is based off of Rodney Osodo's variational quantum classifier project for QOSF (https://medium.com/qiskit/building-a-quantum-variational-classifier-using-real-world-data-809c59eb17c2) and the Qiskit implementatin of it (https://learn.qiskit.org/course/machine-learning/variational-classification). Any code segments that I used from either of these two sources will be marked with a tilde (~). "
   ]
  },
  {
   "cell_type": "markdown",
   "id": "f6a7db46-56ef-47f2-82df-361d24a3e87d",
   "metadata": {},
   "source": [
    "# Additional imports"
   ]
  },
  {
   "cell_type": "code",
   "execution_count": 2,
   "id": "e74dbfea-0232-419c-b005-e831f816888d",
   "metadata": {},
   "outputs": [],
   "source": [
    "#imports\n",
    "from qiskit.circuit import QuantumCircuit, ParameterVector\n",
    "from qiskit.algorithms.optimizers import SPSA\n",
    "from qiskit.circuit.library import ZZFeatureMap, RealAmplitudes\n",
    "from qiskit.quantum_info import Statevector\n",
    "\n",
    "import numpy as np\n",
    "import pandas as pd\n",
    "import matplotlib.pyplot as plt\n",
    "\n",
    "from sklearn.preprocessing import normalize\n",
    "from sklearn.utils import shuffle\n",
    "\n",
    "import warnings\n",
    "warnings.filterwarnings(\"ignore\")\n",
    "\n",
    "%matplotlib inline"
   ]
  },
  {
   "cell_type": "markdown",
   "id": "01979210-0211-4822-a104-9f4d014aaa68",
   "metadata": {},
   "source": [
    "# Import data"
   ]
  },
  {
   "cell_type": "code",
   "execution_count": 3,
   "id": "9d296344-9904-406f-82a3-b4b92fa3a234",
   "metadata": {},
   "outputs": [],
   "source": [
    "def normalizeData():\n",
    "    #Normalizes the data\n",
    "    RANDOM_STATE = 42\n",
    "    \n",
    "    # Reads the data\n",
    "    data_train = pd.read_csv(\"../QOSF Mentorship - March 2022/mock_train_set.csv\")\n",
    "    data_train = shuffle(data_train, random_state=RANDOM_STATE)\n",
    "    X_train, Y_train = data_train[['0', '1', '2', '3']].values, data_train['4'].values\n",
    "    \n",
    "    data_test = pd.read_csv(\"../QOSF Mentorship - March 2022/mock_test_set.csv\")\n",
    "    data_test = shuffle(data_test, random_state=RANDOM_STATE)\n",
    "    X_test, Y_test = data_test[['0', '1', '2', '3']].values, data_test['4'].values\n",
    "        \n",
    "    # normalize the data\n",
    "    X_train = normalize(X_train)\n",
    "    X_test = normalize(X_test)\n",
    "    \n",
    "    return X_train, X_test, Y_train, Y_test"
   ]
  },
  {
   "cell_type": "code",
   "execution_count": 4,
   "id": "32d3afc8-7a59-4d65-aa7e-e4ba6d629abf",
   "metadata": {},
   "outputs": [],
   "source": [
    "X_train, X_test, Y_train, Y_test = normalizeData()"
   ]
  },
  {
   "cell_type": "markdown",
   "id": "97bd512e-7ab8-4a66-a3ae-1f25026b5239",
   "metadata": {
    "tags": []
   },
   "source": [
    "# Encode data"
   ]
  },
  {
   "cell_type": "code",
   "execution_count": 5,
   "id": "94cf54ad-7e25-478e-8f48-2cbc4a1628e9",
   "metadata": {},
   "outputs": [],
   "source": [
    "# constant for the number of qubits \n",
    "n = X_train.shape[1]"
   ]
  },
  {
   "cell_type": "code",
   "execution_count": 6,
   "id": "cc5016fc-1541-460e-87e2-81459202d3ed",
   "metadata": {},
   "outputs": [],
   "source": [
    "sv = Statevector.from_label('0' * n)"
   ]
  },
  {
   "cell_type": "code",
   "execution_count": 7,
   "id": "09455f0c-41b2-4d38-bf82-279a325acc15",
   "metadata": {},
   "outputs": [
    {
     "data": {
      "image/png": "[encoded data removed]",
      "text/plain": [
       "<Figure size 568.197x264.88 with 1 Axes>"
      ]
     },
     "execution_count": 7,
     "metadata": {},
     "output_type": "execute_result"
    }
   ],
   "source": [
    "# Feature Map set-up\n",
    "\n",
    "feature_map = QuantumCircuit(n)\n",
    "\n",
    "X_list = ParameterVector('x', length=n)\n",
    "\n",
    "for i in range(n):\n",
    "    feature_map.h(i)\n",
    "    feature_map.ry(X_list[i], i)\n",
    "    \n",
    "for i in range(n):\n",
    "    for j in range(n - i - 1):\n",
    "        feature_map.cx(i, j + i + 1)\n",
    "\n",
    "feature_map.draw()"
   ]
  },
  {
   "cell_type": "markdown",
   "id": "140c02ff-147f-49de-a4fd-fb99dacf4c17",
   "metadata": {
    "tags": []
   },
   "source": [
    "# Variational circuit"
   ]
  },
  {
   "cell_type": "code",
   "execution_count": 8,
   "id": "7c34b6df-bf17-4950-95a3-80a9d876c201",
   "metadata": {},
   "outputs": [
    {
     "data": {
      "image/png": "[encoded data removed]",
      "text/plain": [
       "<Figure size 808.997x264.88 with 1 Axes>"
      ]
     },
     "execution_count": 8,
     "metadata": {},
     "output_type": "execute_result"
    }
   ],
   "source": [
    "var_form = QuantumCircuit(n)\n",
    "\n",
    "theta_list = ParameterVector('θ', length=n*2)\n",
    "\n",
    "var_form.barrier();\n",
    "\n",
    "for i in range(n):\n",
    "    var_form.rx(theta_list[i], i)\n",
    "    var_form.rz(theta_list[i+4], i)\n",
    "    \n",
    "for i in range(n - 1):\n",
    "    for j in range(n- i - 1): #full entanglement\n",
    "        var_form.cx(i, j + i + 1) \n",
    "    \n",
    "for i in range(n):\n",
    "    var_form.rz(theta_list[i+4], i)\n",
    "    var_form.rx(theta_list[i], i)\n",
    "    var_form.h(i)\n",
    "\n",
    "\n",
    "var_form.draw()"
   ]
  },
  {
   "cell_type": "code",
   "execution_count": 9,
   "id": "dec39c3e-a4f2-4bd0-8b05-85141d83965f",
   "metadata": {},
   "outputs": [],
   "source": [
    "circuit = feature_map.combine(var_form)"
   ]
  },
  {
   "cell_type": "code",
   "execution_count": 10,
   "id": "6469fb0d-fb32-493b-855f-34d5bd8035fd",
   "metadata": {},
   "outputs": [
    {
     "data": {
      "image/png": "[encoded data removed]",
      "text/plain": [
       "<Figure size 1290.6x264.88 with 1 Axes>"
      ]
     },
     "execution_count": 10,
     "metadata": {},
     "output_type": "execute_result"
    }
   ],
   "source": [
    "circuit.draw()"
   ]
  },
  {
   "cell_type": "markdown",
   "id": "d1a6c7f2-f3a2-4d7c-b4ed-dba016530b32",
   "metadata": {},
   "source": [
    "# Parity checker"
   ]
  },
  {
   "cell_type": "code",
   "execution_count": 11,
   "id": "b9feed6d-e34e-43da-9f45-d70bbcb1352b",
   "metadata": {},
   "outputs": [],
   "source": [
    "def parity_check(bit_string):\n",
    "    parity = 0\n",
    "    for i in range(len(bit_string)):\n",
    "        parity += int(bit_string[i])\n",
    "    parity = parity % 2\n",
    "    if parity:\n",
    "        return 1\n",
    "    else:\n",
    "        return 0"
   ]
  },
  {
   "cell_type": "markdown",
   "id": "37e24097-a9b8-4750-81f0-2f292aad548b",
   "metadata": {
    "tags": []
   },
   "source": [
    "# Cost function"
   ]
  },
  {
   "cell_type": "code",
   "execution_count": 12,
   "id": "ea554006-f77c-4d0e-ac6e-2e8bd37e725b",
   "metadata": {},
   "outputs": [],
   "source": [
    "# ~\n",
    "def get_data_dict(params, x):\n",
    "    parameters = {}\n",
    "    for i, p in enumerate(X_list):\n",
    "        parameters[p] = x[i]\n",
    "    for i, p in enumerate(theta_list):\n",
    "        parameters[p] = params[i]\n",
    "        \n",
    "    return parameters"
   ]
  },
  {
   "cell_type": "code",
   "execution_count": 13,
   "id": "623f4a76-3ed8-47bc-8c0d-2249766c6e39",
   "metadata": {},
   "outputs": [],
   "source": [
    "# ~\n",
    "def return_probabilities(counts):\n",
    "    shots = sum(counts.values())\n",
    "    result = {0: 0,\n",
    "    1: 0}\n",
    "    for key, item in counts.items():\n",
    "        result[parity_check(key)] += counts[key]/shots\n",
    "    return result"
   ]
  },
  {
   "cell_type": "code",
   "execution_count": 14,
   "id": "41561b02-b985-4f22-a1cf-c8d0db0b481c",
   "metadata": {},
   "outputs": [],
   "source": [
    "# ~\n",
    "def classify(x_list, params):\n",
    "    qc_list = []\n",
    "    for x in x_list:\n",
    "        circ = circuit.assign_parameters(get_data_dict(params, x))\n",
    "        qc = sv.evolve(circ)\n",
    "        qc_list += [qc]\n",
    "        probs = []\n",
    "    for qc in qc_list:\n",
    "        counts = qc.probabilities_dict()        \n",
    "        prob = return_probabilities(counts)\n",
    "        probs += [prob]\n",
    "    return probs"
   ]
  },
  {
   "cell_type": "code",
   "execution_count": 15,
   "id": "2dd5eb8a-9b3a-4dfa-ae5b-76f32215f718",
   "metadata": {},
   "outputs": [],
   "source": [
    "# ~\n",
    "def mse_cost(probs, expected_label):\n",
    "    p = probs.get(expected_label)\n",
    "    actual, pred = np.array(1), np.array(p)\n",
    "    return np.square(np.subtract(actual,pred)).mean()"
   ]
  },
  {
   "cell_type": "code",
   "execution_count": 16,
   "id": "58985a7d-6231-4bb9-97e2-d7895fb88da8",
   "metadata": {},
   "outputs": [],
   "source": [
    "# ~\n",
    "cost_list = []\n",
    "def cost_function(X, Y, params, shots=100, print_value=False):\n",
    "    # map training input to list of labels and list of samples\n",
    "    cost = 0\n",
    "    training_labels = []\n",
    "    training_samples = []\n",
    "    for sample in X:\n",
    "        training_samples += [sample]\n",
    "    for label in Y:\n",
    "        if label == 0:\n",
    "            training_labels += [0]\n",
    "        elif label == 1:\n",
    "            training_labels += [1]\n",
    "    probs = classify(training_samples, params)\n",
    "    # evaluate costs for all classified samples\n",
    "    for i, prob in enumerate(probs):\n",
    "        cost += mse_cost(prob, training_labels[i])\n",
    "    cost /= len(training_samples)\n",
    "    # print resulting objective function\n",
    "    if print_value:\n",
    "        print('%.4f' % cost)\n",
    "    # return objective value\n",
    "    cost_list.append(cost)\n",
    "    return cost"
   ]
  },
  {
   "cell_type": "markdown",
   "id": "07c76935-1a0a-41b5-80c5-1b66637938e3",
   "metadata": {},
   "source": [
    "# Run circuit"
   ]
  },
  {
   "cell_type": "code",
   "execution_count": 17,
   "id": "4a1bb732-279d-4c07-bb8f-1bccfce40a05",
   "metadata": {},
   "outputs": [
    {
     "name": "stdout",
     "output_type": "stream",
     "text": [
      "0.2661\n",
      "0.3485\n",
      "0.2796\n",
      "0.3214\n",
      "0.3214\n",
      "0.2795\n",
      "0.2903\n",
      "0.3350\n",
      "0.2972\n",
      "0.2972\n",
      "0.3070\n",
      "0.3008\n",
      "0.2813\n",
      "0.3313\n",
      "0.3339\n",
      "0.2869\n",
      "0.3528\n",
      "0.2736\n",
      "0.2697\n",
      "0.3582\n",
      "0.3020\n",
      "0.2994\n",
      "0.3350\n",
      "0.2903\n",
      "0.2661\n",
      "0.3485\n",
      "0.2767\n",
      "0.3086\n",
      "0.3207\n",
      "0.2795\n",
      "0.3070\n",
      "0.3008\n",
      "0.3304\n",
      "0.2788\n",
      "0.3025\n",
      "0.3153\n",
      "0.3129\n",
      "0.2836\n",
      "0.3005\n",
      "0.3040\n",
      "0.3577\n",
      "0.2712\n",
      "0.3057\n",
      "0.2768\n",
      "0.2941\n",
      "0.2905\n",
      "0.2967\n",
      "0.2973\n",
      "0.2948\n",
      "0.3042\n",
      "0.2806\n",
      "0.3405\n",
      "0.2621\n",
      "0.2549\n",
      "0.2661\n",
      "0.2504\n",
      "0.2552\n",
      "0.2387\n",
      "0.2547\n",
      "0.2260\n",
      "0.2128\n",
      "0.2348\n",
      "0.2255\n",
      "0.2064\n",
      "0.2201\n",
      "0.2160\n",
      "0.2288\n",
      "0.1932\n",
      "0.2032\n",
      "0.2052\n",
      "0.1970\n",
      "0.1966\n",
      "0.2188\n",
      "0.1970\n",
      "0.2118\n",
      "0.1855\n",
      "0.2002\n",
      "0.1994\n",
      "0.1801\n",
      "0.1999\n",
      "0.1948\n",
      "0.1855\n",
      "0.1905\n",
      "0.1902\n",
      "0.1858\n",
      "0.1960\n",
      "0.1894\n",
      "0.1817\n",
      "0.1876\n",
      "0.1824\n",
      "0.1911\n",
      "0.1872\n",
      "0.1837\n",
      "0.1860\n",
      "0.1945\n",
      "0.1720\n",
      "0.1704\n",
      "0.1980\n",
      "0.1780\n",
      "0.1689\n",
      "0.1838\n",
      "0.1748\n",
      "0.1662\n",
      "0.1766\n",
      "0.1717\n",
      "0.1821\n",
      "0.1815\n",
      "0.1687\n",
      "0.1748\n",
      "0.1657\n",
      "0.1618\n",
      "0.1785\n",
      "0.1734\n",
      "0.1685\n",
      "0.1744\n",
      "0.1634\n",
      "0.1734\n",
      "0.1756\n",
      "0.1706\n",
      "0.1726\n",
      "0.1654\n",
      "0.1695\n",
      "0.1753\n",
      "0.1689\n",
      "0.1727\n",
      "0.1554\n",
      "0.1632\n",
      "0.1730\n",
      "0.1722\n",
      "0.1716\n",
      "0.1586\n",
      "0.1704\n",
      "0.1599\n",
      "0.1601\n",
      "0.1672\n",
      "0.1684\n",
      "0.1706\n",
      "0.1605\n",
      "0.1620\n",
      "0.1662\n",
      "0.1646\n",
      "0.1621\n",
      "0.1645\n",
      "0.1624\n",
      "0.1569\n",
      "0.1597\n",
      "0.1664\n",
      "0.1595\n",
      "0.1579\n",
      "0.1589\n",
      "0.1690\n",
      "0.1697\n",
      "0.1613\n",
      "0.1636\n",
      "0.1593\n",
      "0.1635\n",
      "0.1641\n",
      "0.1712\n",
      "0.1702\n",
      "0.1672\n",
      "0.1558\n",
      "0.1598\n",
      "0.1676\n",
      "0.1665\n",
      "0.1591\n",
      "0.1646\n",
      "0.1637\n",
      "0.1697\n",
      "0.1584\n",
      "0.1609\n",
      "0.1602\n",
      "0.1587\n",
      "0.1690\n",
      "0.1638\n",
      "0.1632\n",
      "0.1524\n",
      "0.1686\n",
      "0.1670\n",
      "0.1626\n",
      "0.1582\n",
      "0.1642\n",
      "0.1681\n",
      "0.1585\n",
      "0.1596\n",
      "0.1622\n",
      "0.1620\n",
      "0.1618\n",
      "0.1570\n",
      "0.1671\n",
      "0.1644\n",
      "0.1585\n",
      "0.1614\n",
      "0.1674\n",
      "0.1671\n",
      "0.1578\n",
      "0.1534\n",
      "0.1590\n",
      "0.1638\n",
      "0.1609\n",
      "0.1570\n",
      "0.1663\n",
      "0.1664\n",
      "0.1639\n",
      "0.1683\n",
      "0.1593\n",
      "0.1599\n",
      "0.1592\n",
      "0.1615\n",
      "0.1574\n",
      "0.1607\n",
      "0.1600\n",
      "0.1572\n",
      "0.1606\n",
      "0.1603\n",
      "0.1679\n",
      "0.1630\n",
      "0.1543\n",
      "0.1548\n",
      "0.1534\n",
      "0.1557\n",
      "0.1603\n",
      "0.1552\n",
      "0.1593\n",
      "0.1602\n",
      "0.1604\n",
      "0.1567\n",
      "0.1562\n",
      "0.1606\n",
      "0.1519\n",
      "0.1566\n",
      "0.1633\n",
      "0.1659\n",
      "0.1575\n",
      "0.1587\n",
      "0.1649\n",
      "0.1636\n",
      "0.1575\n",
      "0.1580\n",
      "0.1654\n",
      "0.1643\n",
      "0.1591\n",
      "0.1569\n",
      "0.1584\n",
      "0.1600\n",
      "0.1595\n",
      "0.1581\n",
      "0.1652\n",
      "0.1629\n",
      "0.1585\n",
      "0.1596\n",
      "0.1505\n",
      "\n",
      "opt_params: [ 4.51572221  6.8542625   4.2066325   3.95247617  1.6458727   1.78819349\n",
      " -0.98389867  6.23067587]\n",
      "cost:  0.15052741515531975\n"
     ]
    }
   ],
   "source": [
    "# ~\n",
    "cost_list = []\n",
    "optimizer = SPSA(maxiter=100)\n",
    "\n",
    "# define objective function for training\n",
    "objective_function = lambda params: cost_function(X_train, Y_train, params, print_value=True)\n",
    "# randomly initialize the parameters\n",
    "np.random.seed(42)\n",
    "init_params = 2*np.pi*np.random.rand(n*(1)*2)\n",
    "# train classifier\n",
    "opt_params, value, _ = optimizer.optimize(len(init_params), objective_function, initial_point=init_params)\n",
    "# print results\n",
    "print()\n",
    "print('opt_params:', opt_params)\n",
    "print('cost: ', value)"
   ]
  },
  {
   "cell_type": "markdown",
   "id": "49795cbd-0236-4049-9fce-1392d84ce44b",
   "metadata": {},
   "source": [
    "# Test circuit"
   ]
  },
  {
   "cell_type": "code",
   "execution_count": 22,
   "id": "e54f6cc5-2c32-4162-8e24-34c62b229cbd",
   "metadata": {},
   "outputs": [],
   "source": [
    "# ~\n",
    "def test_model(X, Y, params):\n",
    "    accuracy = 0\n",
    "    training_labels = []\n",
    "    training_samples = []\n",
    "    for sample in X:\n",
    "        training_samples += [sample]\n",
    "    probs = classify(training_samples, params)\n",
    "    for i, prob in enumerate(probs):\n",
    "        # checks if the probability of the right answer is higher than the wrong answer\n",
    "        if (prob.get(Y_test[i]) >= prob.get((Y_test[i] + 1) % 2)): \n",
    "            accuracy += 1\n",
    "    accuracy /= len(Y_test)\n",
    "    print(\"Test accuracy: {}\\n\".format(accuracy))"
   ]
  },
  {
   "cell_type": "code",
   "execution_count": 23,
   "id": "a5b10881-0ccf-44e7-8b07-977b7d39176b",
   "metadata": {},
   "outputs": [
    {
     "name": "stdout",
     "output_type": "stream",
     "text": [
      "Test accuracy: 1.0\n",
      "\n"
     ]
    }
   ],
   "source": [
    "# ~\n",
    "test_model(X_test, Y_test, opt_params)"
   ]
  },
  {
   "cell_type": "code",
   "execution_count": 24,
   "id": "3724e4a0-c61d-41fc-a8ae-488fc54dad0b",
   "metadata": {},
   "outputs": [
    {
     "name": "stdout",
     "output_type": "stream",
     "text": [
      "<built-in method count of list object at 0x7fc72378b1c0>\n"
     ]
    },
    {
     "data": {
      "image/png": "[encoded data removed]",
      "text/plain": [
       "<Figure size 432x288 with 1 Axes>"
      ]
     },
     "metadata": {
      "needs_background": "light"
     },
     "output_type": "display_data"
    }
   ],
   "source": [
    "# ~\n",
    "fig = plt.figure()\n",
    "print(cost_list.count)\n",
    "plt.plot(range(0,len(cost_list),1), cost_list)\n",
    "plt.xlabel('Steps')\n",
    "plt.ylabel('Cost value')\n",
    "plt.title(\"SPSA Cost value against steps\")\n",
    "plt.show()"
   ]
  }
 ],
 "metadata": {
  "kernelspec": {
   "display_name": "Qiskit v0.34.2 (ipykernel)",
   "language": "python",
   "name": "python3"
  },
  "language_info": {
   "codemirror_mode": {
    "name": "ipython",
    "version": 3
   },
   "file_extension": ".py",
   "mimetype": "text/x-python",
   "name": "python",
   "nbconvert_exporter": "python",
   "pygments_lexer": "ipython3",
   "version": "3.8.12"
  },
  "widgets": {
   "application/vnd.jupyter.widget-state+json": {
    "state": {
     "019c398dce104e699a5c9fd5d7c53ab9": {
      "model_module": "@jupyter-widgets/base",
      "model_module_version": "1.2.0",
      "model_name": "LayoutModel",
      "state": {
       "margin": "0px 0px 10px 0px"
      }
     },
     "097b57878eea44ad8faf68bece30db54": {
      "model_module": "@jupyter-widgets/controls",
      "model_module_version": "1.5.0",
      "model_name": "ButtonModel",
      "state": {
       "button_style": "primary",
       "description": "Clear",
       "layout": "IPY_MODEL_c74da0aba4aa4367ac76b219b33d9b80",
       "style": "IPY_MODEL_ffad52debfa0473b9ade2eff043b4112"
      }
     },
     "16125ac643f74b158007fc74981b89de": {
      "model_module": "@jupyter-widgets/controls",
      "model_module_version": "1.5.0",
      "model_name": "HTMLModel",
      "state": {
       "layout": "IPY_MODEL_524674a3a6e243f3a815143d162e4340",
       "style": "IPY_MODEL_325fd3d35324459fbc20cae0b19c8994",
       "value": "<h5>Backend</h5>"
      }
     },
     "1749b28dfbc04396854d6821f72a9d1a": {
      "model_module": "@jupyter-widgets/base",
      "model_module_version": "1.2.0",
      "model_name": "LayoutModel",
      "state": {
       "width": "190px"
      }
     },
     "1bf6745f6ae247f9a428825950f1e723": {
      "model_module": "@jupyter-widgets/controls",
      "model_module_version": "1.5.0",
      "model_name": "DescriptionStyleModel",
      "state": {
       "description_width": ""
      }
     },
     "325fd3d35324459fbc20cae0b19c8994": {
      "model_module": "@jupyter-widgets/controls",
      "model_module_version": "1.5.0",
      "model_name": "DescriptionStyleModel",
      "state": {
       "description_width": ""
      }
     },
     "4265d18de5cd49e4bf26c5f831c08f8b": {
      "model_module": "@jupyter-widgets/controls",
      "model_module_version": "1.5.0",
      "model_name": "DescriptionStyleModel",
      "state": {
       "description_width": ""
      }
     },
     "4f8ebba3bdfd4f9e9de6278fdf8f2bfc": {
      "model_module": "@jupyter-widgets/controls",
      "model_module_version": "1.5.0",
      "model_name": "HTMLModel",
      "state": {
       "layout": "IPY_MODEL_b8b8de50b28a4f06adb07ed7067a68bb",
       "style": "IPY_MODEL_685cae3a94a0421b801f2dde4bb73960",
       "value": "<h5>Status</h5>"
      }
     },
     "524674a3a6e243f3a815143d162e4340": {
      "model_module": "@jupyter-widgets/base",
      "model_module_version": "1.2.0",
      "model_name": "LayoutModel",
      "state": {
       "width": "145px"
      }
     },
     "5a5a225368504171a01c24c6d9900839": {
      "model_module": "@jupyter-widgets/base",
      "model_module_version": "1.2.0",
      "model_name": "LayoutModel",
      "state": {}
     },
     "67c4ad9c787f457194d2a116f9f0f9ea": {
      "model_module": "@jupyter-widgets/controls",
      "model_module_version": "1.5.0",
      "model_name": "HTMLModel",
      "state": {
       "layout": "IPY_MODEL_f28d1c7684b44da88f89a2b9b5f0e605",
       "style": "IPY_MODEL_1bf6745f6ae247f9a428825950f1e723",
       "value": "<h5>Queue</h5>"
      }
     },
     "685cae3a94a0421b801f2dde4bb73960": {
      "model_module": "@jupyter-widgets/controls",
      "model_module_version": "1.5.0",
      "model_name": "DescriptionStyleModel",
      "state": {
       "description_width": ""
      }
     },
     "7beeb852daa5441e8982346ce4ee8937": {
      "model_module": "@jupyter-widgets/controls",
      "model_module_version": "1.5.0",
      "model_name": "HTMLModel",
      "state": {
       "layout": "IPY_MODEL_5a5a225368504171a01c24c6d9900839",
       "style": "IPY_MODEL_892d8a7fecac4b1d9243aadb7b914d05",
       "value": "<h5>Message</h5>"
      }
     },
     "7e3b40aa5f8345e8ae4e01b304ec03c1": {
      "model_module": "@jupyter-widgets/controls",
      "model_module_version": "1.5.0",
      "model_name": "DescriptionStyleModel",
      "state": {
       "description_width": ""
      }
     },
     "892d8a7fecac4b1d9243aadb7b914d05": {
      "model_module": "@jupyter-widgets/controls",
      "model_module_version": "1.5.0",
      "model_name": "DescriptionStyleModel",
      "state": {
       "description_width": ""
      }
     },
     "8aa4e7a0f7f04353ad0c40aa4e88f955": {
      "model_module": "@jupyter-widgets/controls",
      "model_module_version": "1.5.0",
      "model_name": "HTMLModel",
      "state": {
       "layout": "IPY_MODEL_019c398dce104e699a5c9fd5d7c53ab9",
       "style": "IPY_MODEL_7e3b40aa5f8345e8ae4e01b304ec03c1",
       "value": "<p style='font-family: IBM Plex Sans, Arial, Helvetica, sans-serif; font-size: 20px; font-weight: medium;'>Circuit Properties</p>"
      }
     },
     "9219ddc2e543468d8d8a3bde5b75f6a6": {
      "model_module": "@jupyter-widgets/controls",
      "model_module_version": "1.5.0",
      "model_name": "HBoxModel",
      "state": {
       "children": [
        "IPY_MODEL_db29564d792147dd99487383d5acab3b",
        "IPY_MODEL_16125ac643f74b158007fc74981b89de",
        "IPY_MODEL_4f8ebba3bdfd4f9e9de6278fdf8f2bfc",
        "IPY_MODEL_67c4ad9c787f457194d2a116f9f0f9ea",
        "IPY_MODEL_7beeb852daa5441e8982346ce4ee8937"
       ],
       "layout": "IPY_MODEL_c980267ff87a4fb1b94d5054d6efd5c9"
      }
     },
     "b8b8de50b28a4f06adb07ed7067a68bb": {
      "model_module": "@jupyter-widgets/base",
      "model_module_version": "1.2.0",
      "model_name": "LayoutModel",
      "state": {
       "width": "95px"
      }
     },
     "c5db2ce9b522448d8a2a75b6db02208f": {
      "model_module": "@jupyter-widgets/base",
      "model_module_version": "1.2.0",
      "model_name": "LayoutModel",
      "state": {
       "grid_template_areas": "\n                                       \". . . . right \"\n                                        ",
       "grid_template_columns": "20% 20% 20% 20% 20%",
       "width": "100%"
      }
     },
     "c74da0aba4aa4367ac76b219b33d9b80": {
      "model_module": "@jupyter-widgets/base",
      "model_module_version": "1.2.0",
      "model_name": "LayoutModel",
      "state": {
       "grid_area": "right",
       "padding": "0px 0px 0px 0px",
       "width": "70px"
      }
     },
     "c9463d25a8fd47aea90ca25ced7c91a0": {
      "model_module": "@jupyter-widgets/controls",
      "model_module_version": "1.5.0",
      "model_name": "GridBoxModel",
      "state": {
       "children": [
        "IPY_MODEL_097b57878eea44ad8faf68bece30db54"
       ],
       "layout": "IPY_MODEL_c5db2ce9b522448d8a2a75b6db02208f"
      }
     },
     "c980267ff87a4fb1b94d5054d6efd5c9": {
      "model_module": "@jupyter-widgets/base",
      "model_module_version": "1.2.0",
      "model_name": "LayoutModel",
      "state": {
       "margin": "0px 0px 0px 37px",
       "width": "600px"
      }
     },
     "db29564d792147dd99487383d5acab3b": {
      "model_module": "@jupyter-widgets/controls",
      "model_module_version": "1.5.0",
      "model_name": "HTMLModel",
      "state": {
       "layout": "IPY_MODEL_1749b28dfbc04396854d6821f72a9d1a",
       "style": "IPY_MODEL_4265d18de5cd49e4bf26c5f831c08f8b",
       "value": "<h5>Job ID</h5>"
      }
     },
     "f28d1c7684b44da88f89a2b9b5f0e605": {
      "model_module": "@jupyter-widgets/base",
      "model_module_version": "1.2.0",
      "model_name": "LayoutModel",
      "state": {
       "width": "70px"
      }
     },
     "ffad52debfa0473b9ade2eff043b4112": {
      "model_module": "@jupyter-widgets/controls",
      "model_module_version": "1.5.0",
      "model_name": "ButtonStyleModel",
      "state": {}
     }
    },
    "version_major": 2,
    "version_minor": 0
   }
  }
 },
 "nbformat": 4,
 "nbformat_minor": 5
}
