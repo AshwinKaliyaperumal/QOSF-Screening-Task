{
 "cells": [
  {
   "cell_type": "code",
   "execution_count": 1,
   "id": "ffaca3e5-305c-4a40-bb62-cf121cb25eb7",
   "metadata": {},
   "outputs": [
    {
     "name": "stderr",
     "output_type": "stream",
     "text": [
      "<frozen importlib._bootstrap>:219: RuntimeWarning: scipy._lib.messagestream.MessageStream size changed, may indicate binary incompatibility. Expected 56 from C header, got 64 from PyObject\n"
     ]
    }
   ],
   "source": [
    "import numpy as np\n",
    "\n",
    "# Importing standard Qiskit libraries\n",
    "from qiskit import QuantumCircuit, transpile, Aer, IBMQ\n",
    "from qiskit.tools.jupyter import *\n",
    "from qiskit.visualization import *\n",
    "from ibm_quantum_widgets import *\n",
    "from qiskit.providers.aer import QasmSimulator\n",
    "\n",
    "# Loading your IBM Quantum account(s)\n",
    "provider = IBMQ.load_account()"
   ]
  },
  {
   "cell_type": "markdown",
   "id": "44dd1bd8-52cc-42ab-9be8-8cef2ccd418b",
   "metadata": {},
   "source": [
    "### Part of my code is based off of Rodney Osodo's variational quantum classifier project for QOSF (https://medium.com/qiskit/building-a-quantum-variational-classifier-using-real-world-data-809c59eb17c2) and the Qiskit implementatin of it (https://learn.qiskit.org/course/machine-learning/variational-classification). Any code segments that I used from either of these two sources will be marked with a tilde (~). "
   ]
  },
  {
   "cell_type": "markdown",
   "id": "f6a7db46-56ef-47f2-82df-361d24a3e87d",
   "metadata": {},
   "source": [
    "# Additional imports"
   ]
  },
  {
   "cell_type": "code",
   "execution_count": 2,
   "id": "e74dbfea-0232-419c-b005-e831f816888d",
   "metadata": {},
   "outputs": [],
   "source": [
    "#imports\n",
    "from qiskit.circuit import QuantumCircuit, ParameterVector\n",
    "from qiskit.algorithms.optimizers import SPSA\n",
    "from qiskit.circuit.library import ZZFeatureMap, RealAmplitudes\n",
    "from qiskit.quantum_info import Statevector\n",
    "\n",
    "import numpy as np\n",
    "import pandas as pd\n",
    "import matplotlib.pyplot as plt\n",
    "\n",
    "from sklearn.preprocessing import normalize\n",
    "from sklearn.utils import shuffle\n",
    "\n",
    "import warnings\n",
    "warnings.filterwarnings(\"ignore\")\n",
    "\n",
    "%matplotlib inline"
   ]
  },
  {
   "cell_type": "markdown",
   "id": "01979210-0211-4822-a104-9f4d014aaa68",
   "metadata": {},
   "source": [
    "# Import data"
   ]
  },
  {
   "cell_type": "code",
   "execution_count": 3,
   "id": "9d296344-9904-406f-82a3-b4b92fa3a234",
   "metadata": {},
   "outputs": [],
   "source": [
    "def normalizeData():\n",
    "    #Normalizes the data\n",
    "    RANDOM_STATE = 42\n",
    "    \n",
    "    # Reads the data\n",
    "    data_train = pd.read_csv(\"../QOSF Mentorship - March 2022/mock_train_set.csv\")\n",
    "    data_train = shuffle(data_train, random_state=RANDOM_STATE)\n",
    "    X_train, Y_train = data_train[['0', '1', '2', '3']].values, data_train['4'].values\n",
    "    \n",
    "    data_test = pd.read_csv(\"../QOSF Mentorship - March 2022/mock_test_set.csv\")\n",
    "    data_test = shuffle(data_test, random_state=RANDOM_STATE)\n",
    "    X_test, Y_test = data_test[['0', '1', '2', '3']].values, data_test['4'].values\n",
    "        \n",
    "    # normalize the data\n",
    "    X_train = normalize(X_train)\n",
    "    X_test = normalize(X_test)\n",
    "    \n",
    "    return X_train, X_test, Y_train, Y_test"
   ]
  },
  {
   "cell_type": "code",
   "execution_count": 4,
   "id": "32d3afc8-7a59-4d65-aa7e-e4ba6d629abf",
   "metadata": {},
   "outputs": [],
   "source": [
    "X_train, X_test, Y_train, Y_test = normalizeData()"
   ]
  },
  {
   "cell_type": "markdown",
   "id": "97bd512e-7ab8-4a66-a3ae-1f25026b5239",
   "metadata": {
    "tags": []
   },
   "source": [
    "# Encode data"
   ]
  },
  {
   "cell_type": "code",
   "execution_count": 5,
   "id": "94cf54ad-7e25-478e-8f48-2cbc4a1628e9",
   "metadata": {},
   "outputs": [],
   "source": [
    "# constant for the number of qubits \n",
    "n = X_train.shape[1]"
   ]
  },
  {
   "cell_type": "code",
   "execution_count": 6,
   "id": "cc5016fc-1541-460e-87e2-81459202d3ed",
   "metadata": {},
   "outputs": [],
   "source": [
    "sv = Statevector.from_label('0' * n)"
   ]
  },
  {
   "cell_type": "code",
   "execution_count": 7,
   "id": "09455f0c-41b2-4d38-bf82-279a325acc15",
   "metadata": {},
   "outputs": [],
   "source": [
    "# Feature Map set-up\n",
    "\n",
    "feature_map = ZZFeatureMap(n)"
   ]
  },
  {
   "cell_type": "markdown",
   "id": "140c02ff-147f-49de-a4fd-fb99dacf4c17",
   "metadata": {
    "tags": []
   },
   "source": [
    "# Variational circuit"
   ]
  },
  {
   "cell_type": "code",
   "execution_count": 8,
   "id": "7c34b6df-bf17-4950-95a3-80a9d876c201",
   "metadata": {},
   "outputs": [
    {
     "data": {
      "image/png": "[encoded data removed]",
      "text/plain": [
       "<Figure size 327.397x264.88 with 1 Axes>"
      ]
     },
     "execution_count": 8,
     "metadata": {},
     "output_type": "execute_result"
    }
   ],
   "source": [
    "var_form = RealAmplitudes(n, 'full', reps=1)\n",
    "var_form.draw()"
   ]
  },
  {
   "cell_type": "code",
   "execution_count": 9,
   "id": "dec39c3e-a4f2-4bd0-8b05-85141d83965f",
   "metadata": {},
   "outputs": [],
   "source": [
    "circuit = feature_map.combine(var_form)"
   ]
  },
  {
   "cell_type": "code",
   "execution_count": 10,
   "id": "6469fb0d-fb32-493b-855f-34d5bd8035fd",
   "metadata": {},
   "outputs": [
    {
     "data": {
      "image/png": "[encoded data removed]",
      "text/plain": [
       "<Figure size 507.997x264.88 with 1 Axes>"
      ]
     },
     "execution_count": 10,
     "metadata": {},
     "output_type": "execute_result"
    }
   ],
   "source": [
    "circuit.draw()"
   ]
  },
  {
   "cell_type": "markdown",
   "id": "d1a6c7f2-f3a2-4d7c-b4ed-dba016530b32",
   "metadata": {},
   "source": [
    "# Parity checker"
   ]
  },
  {
   "cell_type": "code",
   "execution_count": 11,
   "id": "b9feed6d-e34e-43da-9f45-d70bbcb1352b",
   "metadata": {},
   "outputs": [],
   "source": [
    "def parity_check(bit_string):\n",
    "    parity = 0\n",
    "    for i in range(len(bit_string)):\n",
    "        parity += int(bit_string[i])\n",
    "    parity = parity % 2\n",
    "    if parity:\n",
    "        return 1\n",
    "    else:\n",
    "        return 0"
   ]
  },
  {
   "cell_type": "markdown",
   "id": "37e24097-a9b8-4750-81f0-2f292aad548b",
   "metadata": {
    "tags": []
   },
   "source": [
    "# Cost function"
   ]
  },
  {
   "cell_type": "code",
   "execution_count": 25,
   "id": "ea554006-f77c-4d0e-ac6e-2e8bd37e725b",
   "metadata": {},
   "outputs": [],
   "source": [
    "# ~\n",
    "def get_data_dict(params, x):\n",
    "    parameters = {}\n",
    "    for i, p in enumerate(feature_map.ordered_parameters):\n",
    "        parameters[p] = x[i]\n",
    "    for i, p in enumerate(var_form.ordered_parameters):\n",
    "        parameters[p] = params[i]\n",
    "        \n",
    "    return parameters"
   ]
  },
  {
   "cell_type": "code",
   "execution_count": 13,
   "id": "623f4a76-3ed8-47bc-8c0d-2249766c6e39",
   "metadata": {},
   "outputs": [],
   "source": [
    "# ~\n",
    "def return_probabilities(counts):\n",
    "    shots = sum(counts.values())\n",
    "    result = {0: 0,\n",
    "    1: 0}\n",
    "    for key, item in counts.items():\n",
    "        result[parity_check(key)] += counts[key]/shots\n",
    "    return result"
   ]
  },
  {
   "cell_type": "code",
   "execution_count": 14,
   "id": "41561b02-b985-4f22-a1cf-c8d0db0b481c",
   "metadata": {},
   "outputs": [],
   "source": [
    "# ~\n",
    "def classify(x_list, params):\n",
    "    qc_list = []\n",
    "    for x in x_list:\n",
    "        circ = circuit.assign_parameters(get_data_dict(params, x))\n",
    "        qc = sv.evolve(circ)\n",
    "        qc_list += [qc]\n",
    "        probs = []\n",
    "    for qc in qc_list:\n",
    "        counts = qc.probabilities_dict()        \n",
    "        prob = return_probabilities(counts)\n",
    "        probs += [prob]\n",
    "    return probs"
   ]
  },
  {
   "cell_type": "code",
   "execution_count": 15,
   "id": "2dd5eb8a-9b3a-4dfa-ae5b-76f32215f718",
   "metadata": {},
   "outputs": [],
   "source": [
    "# ~\n",
    "def mse_cost(probs, expected_label):\n",
    "    p = probs.get(expected_label)\n",
    "    actual, pred = np.array(1), np.array(p)\n",
    "    return np.square(np.subtract(actual,pred)).mean()"
   ]
  },
  {
   "cell_type": "code",
   "execution_count": 16,
   "id": "58985a7d-6231-4bb9-97e2-d7895fb88da8",
   "metadata": {},
   "outputs": [],
   "source": [
    "# ~\n",
    "cost_list = []\n",
    "def cost_function(X, Y, params, shots=100, print_value=False):\n",
    "    # map training input to list of labels and list of samples\n",
    "    cost = 0\n",
    "    training_labels = []\n",
    "    training_samples = []\n",
    "    for sample in X:\n",
    "        training_samples += [sample]\n",
    "    for label in Y:\n",
    "        if label == 0:\n",
    "            training_labels += [0]\n",
    "        elif label == 1:\n",
    "            training_labels += [1]\n",
    "    probs = classify(training_samples, params)\n",
    "    # evaluate costs for all classified samples\n",
    "    for i, prob in enumerate(probs):\n",
    "        cost += mse_cost(prob, training_labels[i])\n",
    "    cost /= len(training_samples)\n",
    "    # print resulting objective function\n",
    "    if print_value:\n",
    "        print('%.4f' % cost)\n",
    "    # return objective value\n",
    "    cost_list.append(cost)\n",
    "    return cost"
   ]
  },
  {
   "cell_type": "markdown",
   "id": "07c76935-1a0a-41b5-80c5-1b66637938e3",
   "metadata": {},
   "source": [
    "# Run circuit"
   ]
  },
  {
   "cell_type": "code",
   "execution_count": 26,
   "id": "4a1bb732-279d-4c07-bb8f-1bccfce40a05",
   "metadata": {},
   "outputs": [
    {
     "name": "stdout",
     "output_type": "stream",
     "text": [
      "0.2474\n",
      "0.2935\n",
      "0.2546\n",
      "0.2702\n",
      "0.2757\n",
      "0.2444\n",
      "0.2871\n",
      "0.2221\n",
      "0.2281\n",
      "0.2661\n",
      "0.2363\n",
      "0.2896\n",
      "0.2424\n",
      "0.2930\n",
      "0.2816\n",
      "0.2521\n",
      "0.2389\n",
      "0.2825\n",
      "0.2785\n",
      "0.2446\n",
      "0.2853\n",
      "0.2520\n",
      "0.2618\n",
      "0.2682\n",
      "0.2757\n",
      "0.2328\n",
      "0.2803\n",
      "0.2599\n",
      "0.2712\n",
      "0.2835\n",
      "0.2709\n",
      "0.2824\n",
      "0.2117\n",
      "0.2703\n",
      "0.2789\n",
      "0.2589\n",
      "0.2605\n",
      "0.2692\n",
      "0.2631\n",
      "0.2675\n",
      "0.2835\n",
      "0.2712\n",
      "0.2785\n",
      "0.2581\n",
      "0.2896\n",
      "0.2365\n",
      "0.2829\n",
      "0.2573\n",
      "0.2343\n",
      "0.2800\n",
      "0.2532\n",
      "0.2766\n",
      "0.2622\n",
      "0.2391\n",
      "0.2367\n",
      "0.2521\n",
      "0.2371\n",
      "0.2364\n",
      "0.2376\n",
      "0.2229\n",
      "0.2280\n",
      "0.2345\n",
      "0.2437\n",
      "0.2187\n",
      "0.2297\n",
      "0.2171\n",
      "0.2125\n",
      "0.2164\n",
      "0.2317\n",
      "0.2038\n",
      "0.2015\n",
      "0.2126\n",
      "0.2095\n",
      "0.1924\n",
      "0.1945\n",
      "0.2032\n",
      "0.1844\n",
      "0.2011\n",
      "0.1785\n",
      "0.2185\n",
      "0.1793\n",
      "0.1975\n",
      "0.1731\n",
      "0.1921\n",
      "0.1795\n",
      "0.1753\n",
      "0.1781\n",
      "0.1814\n",
      "0.1844\n",
      "0.1818\n",
      "0.1783\n",
      "0.1781\n",
      "0.1824\n",
      "0.1746\n",
      "0.1723\n",
      "0.1798\n",
      "0.1721\n",
      "0.1811\n",
      "0.1800\n",
      "0.1730\n",
      "0.1813\n",
      "0.1799\n",
      "0.1749\n",
      "0.1803\n",
      "0.1747\n",
      "0.1772\n",
      "0.1807\n",
      "0.1729\n",
      "0.1692\n",
      "0.1795\n",
      "0.1728\n",
      "0.1740\n",
      "0.1844\n",
      "0.1727\n",
      "0.1731\n",
      "0.1708\n",
      "0.1725\n",
      "0.1748\n",
      "0.1732\n",
      "0.1694\n",
      "0.1728\n",
      "0.1659\n",
      "0.1739\n",
      "0.1714\n",
      "0.1719\n",
      "0.1733\n",
      "0.1688\n",
      "0.1720\n",
      "0.1667\n",
      "0.1726\n",
      "0.1749\n",
      "0.1712\n",
      "0.1733\n",
      "0.1712\n",
      "0.1741\n",
      "0.1670\n",
      "0.1700\n",
      "0.1745\n",
      "0.1766\n",
      "0.1670\n",
      "0.1680\n",
      "0.1763\n",
      "0.1720\n",
      "0.1743\n",
      "0.1732\n",
      "0.1678\n",
      "0.1689\n",
      "0.1717\n",
      "0.1705\n",
      "0.1638\n",
      "0.1707\n",
      "0.1646\n",
      "0.1675\n",
      "0.1698\n",
      "0.1705\n",
      "0.1732\n",
      "0.1694\n",
      "0.1625\n",
      "0.1687\n",
      "0.1625\n",
      "0.1700\n",
      "0.1667\n",
      "0.1608\n",
      "0.1686\n",
      "0.1646\n",
      "0.1684\n",
      "0.1716\n",
      "0.1632\n",
      "0.1697\n",
      "0.1653\n",
      "0.1624\n",
      "0.1693\n",
      "0.1649\n",
      "0.1639\n",
      "0.1692\n",
      "0.1617\n",
      "0.1665\n",
      "0.1630\n",
      "0.1596\n",
      "0.1655\n",
      "0.1616\n",
      "0.1687\n",
      "0.1663\n",
      "0.1652\n",
      "0.1652\n",
      "0.1645\n",
      "0.1659\n",
      "0.1642\n",
      "0.1668\n",
      "0.1604\n",
      "0.1632\n",
      "0.1618\n",
      "0.1633\n",
      "0.1633\n",
      "0.1627\n",
      "0.1616\n",
      "0.1616\n",
      "0.1653\n",
      "0.1646\n",
      "0.1611\n",
      "0.1693\n",
      "0.1600\n",
      "0.1614\n",
      "0.1659\n",
      "0.1601\n",
      "0.1623\n",
      "0.1590\n",
      "0.1642\n",
      "0.1649\n",
      "0.1616\n",
      "0.1670\n",
      "0.1593\n",
      "0.1632\n",
      "0.1585\n",
      "0.1625\n",
      "0.1592\n",
      "0.1598\n",
      "0.1629\n",
      "0.1602\n",
      "0.1619\n",
      "0.1591\n",
      "0.1651\n",
      "0.1630\n",
      "0.1583\n",
      "0.1611\n",
      "0.1641\n",
      "0.1583\n",
      "0.1618\n",
      "0.1653\n",
      "0.1627\n",
      "0.1624\n",
      "0.1624\n",
      "0.1619\n",
      "0.1623\n",
      "0.1591\n",
      "0.1600\n",
      "0.1606\n",
      "0.1635\n",
      "0.1624\n",
      "0.1621\n",
      "0.1571\n",
      "0.1630\n",
      "0.1618\n",
      "0.1670\n",
      "0.1627\n",
      "0.1600\n",
      "0.1611\n",
      "0.1581\n",
      "0.1593\n",
      "0.1638\n",
      "0.1563\n",
      "\n",
      "opt_params: [ 2.14763064  5.17991181  4.30622049  4.11993209 -0.40099466  1.0510754\n",
      "  0.86534035  4.86513469]\n",
      "cost:  0.156251212032868\n"
     ]
    }
   ],
   "source": [
    "# ~\n",
    "cost_list = []\n",
    "optimizer = SPSA(maxiter=100)\n",
    "\n",
    "# define objective function for training\n",
    "objective_function = lambda params: cost_function(X_train, Y_train, params, print_value=True)\n",
    "# randomly initialize the parameters\n",
    "np.random.seed(42)\n",
    "init_params = 2*np.pi*np.random.rand(n*(1)*2)\n",
    "# train classifier\n",
    "opt_params, value, _ = optimizer.optimize(len(init_params), objective_function, initial_point=init_params)\n",
    "# print results\n",
    "print()\n",
    "print('opt_params:', opt_params)\n",
    "print('cost: ', value)"
   ]
  },
  {
   "cell_type": "markdown",
   "id": "49795cbd-0236-4049-9fce-1392d84ce44b",
   "metadata": {},
   "source": [
    "# Test circuit"
   ]
  },
  {
   "cell_type": "code",
   "execution_count": 27,
   "id": "e54f6cc5-2c32-4162-8e24-34c62b229cbd",
   "metadata": {},
   "outputs": [],
   "source": [
    "# ~\n",
    "def test_model(X, Y, params):\n",
    "    accuracy = 0\n",
    "    training_labels = []\n",
    "    training_samples = []\n",
    "    for sample in X:\n",
    "        training_samples += [sample]\n",
    "    probs = classify(training_samples, params)\n",
    "    for i, prob in enumerate(probs):\n",
    "        if (prob.get(0) >= prob.get(1)) and (Y_test[i] == 0):\n",
    "            accuracy += 1\n",
    "        elif (prob.get(1) >= prob.get(0)) and (Y_test[i] == 1):\n",
    "            accuracy += 1\n",
    "    accuracy /= len(Y_test)\n",
    "    print(\"Test accuracy: {}\\n\".format(accuracy))"
   ]
  },
  {
   "cell_type": "code",
   "execution_count": 28,
   "id": "a5b10881-0ccf-44e7-8b07-977b7d39176b",
   "metadata": {},
   "outputs": [
    {
     "name": "stdout",
     "output_type": "stream",
     "text": [
      "Test accuracy: 0.9916666666666667\n",
      "\n"
     ]
    }
   ],
   "source": [
    "# ~\n",
    "test_model(X_test, Y_test, opt_params)"
   ]
  },
  {
   "cell_type": "code",
   "execution_count": 29,
   "id": "3724e4a0-c61d-41fc-a8ae-488fc54dad0b",
   "metadata": {},
   "outputs": [
    {
     "name": "stdout",
     "output_type": "stream",
     "text": [
      "<built-in method count of list object at 0x7f12147e9ec0>\n"
     ]
    },
    {
     "data": {
      "image/png": "[encoded data removed]",
      "text/plain": [
       "<Figure size 432x288 with 1 Axes>"
      ]
     },
     "metadata": {
      "needs_background": "light"
     },
     "output_type": "display_data"
    }
   ],
   "source": [
    "# ~\n",
    "fig = plt.figure()\n",
    "print(cost_list.count)\n",
    "plt.plot(range(0,len(cost_list),1), cost_list)\n",
    "plt.xlabel('Steps')\n",
    "plt.ylabel('Cost value')\n",
    "plt.title(\"SPSA Cost value against steps\")\n",
    "plt.show()"
   ]
  },
  {
   "cell_type": "code",
   "execution_count": null,
   "id": "6a932de1-4c9f-4445-8753-9a70a8977fc2",
   "metadata": {},
   "outputs": [],
   "source": []
  }
 ],
 "metadata": {
  "kernelspec": {
   "display_name": "Qiskit v0.34.2 (ipykernel)",
   "language": "python",
   "name": "python3"
  },
  "language_info": {
   "codemirror_mode": {
    "name": "ipython",
    "version": 3
   },
   "file_extension": ".py",
   "mimetype": "text/x-python",
   "name": "python",
   "nbconvert_exporter": "python",
   "pygments_lexer": "ipython3",
   "version": "3.8.12"
  },
  "widgets": {
   "application/vnd.jupyter.widget-state+json": {
    "state": {
     "04d1940dbb844054bc6edf739a437d3e": {
      "model_module": "@jupyter-widgets/controls",
      "model_module_version": "1.5.0",
      "model_name": "HTMLModel",
      "state": {
       "layout": "IPY_MODEL_ae92a2c7268a47b4b34ec5e76005b4bb",
       "style": "IPY_MODEL_623cd50466f94b5991e3801e18fd827d",
       "value": "<h5>Message</h5>"
      }
     },
     "0aebbe7f10724cf0a1f0541781e77d40": {
      "model_module": "@jupyter-widgets/base",
      "model_module_version": "1.2.0",
      "model_name": "LayoutModel",
      "state": {
       "margin": "0px 0px 0px 37px",
       "width": "600px"
      }
     },
     "0e118db83fef4944bc99f1e3c789e098": {
      "model_module": "@jupyter-widgets/controls",
      "model_module_version": "1.5.0",
      "model_name": "GridBoxModel",
      "state": {
       "children": [
        "IPY_MODEL_e4d32367702f4ef9ab04ea2793a02e7e"
       ],
       "layout": "IPY_MODEL_25123296d74a4984b14d23ea1242e55b"
      }
     },
     "15ec60d9403a409fb3c32f4eb16e0fee": {
      "model_module": "@jupyter-widgets/controls",
      "model_module_version": "1.5.0",
      "model_name": "DescriptionStyleModel",
      "state": {
       "description_width": ""
      }
     },
     "25123296d74a4984b14d23ea1242e55b": {
      "model_module": "@jupyter-widgets/base",
      "model_module_version": "1.2.0",
      "model_name": "LayoutModel",
      "state": {
       "grid_template_areas": "\n                                       \". . . . right \"\n                                        ",
       "grid_template_columns": "20% 20% 20% 20% 20%",
       "width": "100%"
      }
     },
     "3406b04b776249968cc2a375b6150f15": {
      "model_module": "@jupyter-widgets/base",
      "model_module_version": "1.2.0",
      "model_name": "LayoutModel",
      "state": {
       "width": "95px"
      }
     },
     "38fce7d97fd44d139633901b3fcba7ed": {
      "model_module": "@jupyter-widgets/controls",
      "model_module_version": "1.5.0",
      "model_name": "DescriptionStyleModel",
      "state": {
       "description_width": ""
      }
     },
     "537b39643a62466dae8e92786fb4e5cb": {
      "model_module": "@jupyter-widgets/controls",
      "model_module_version": "1.5.0",
      "model_name": "ButtonStyleModel",
      "state": {}
     },
     "57852ca65ec74c2dbdab2dae98c3f1c4": {
      "model_module": "@jupyter-widgets/controls",
      "model_module_version": "1.5.0",
      "model_name": "DescriptionStyleModel",
      "state": {
       "description_width": ""
      }
     },
     "5f32dc57977a41da8d1e6cbf4623d504": {
      "model_module": "@jupyter-widgets/controls",
      "model_module_version": "1.5.0",
      "model_name": "HTMLModel",
      "state": {
       "layout": "IPY_MODEL_6c47452057c44b9fa544775be9d39680",
       "style": "IPY_MODEL_57852ca65ec74c2dbdab2dae98c3f1c4",
       "value": "<h5>Backend</h5>"
      }
     },
     "623cd50466f94b5991e3801e18fd827d": {
      "model_module": "@jupyter-widgets/controls",
      "model_module_version": "1.5.0",
      "model_name": "DescriptionStyleModel",
      "state": {
       "description_width": ""
      }
     },
     "6c47452057c44b9fa544775be9d39680": {
      "model_module": "@jupyter-widgets/base",
      "model_module_version": "1.2.0",
      "model_name": "LayoutModel",
      "state": {
       "width": "145px"
      }
     },
     "7dc727b871a54b0eb4a1d421e17ab708": {
      "model_module": "@jupyter-widgets/controls",
      "model_module_version": "1.5.0",
      "model_name": "HBoxModel",
      "state": {
       "children": [
        "IPY_MODEL_d10593d8101a4d0ea8311fc2404d9d60",
        "IPY_MODEL_5f32dc57977a41da8d1e6cbf4623d504",
        "IPY_MODEL_fe735afb03a44a9c831f598876e6981d",
        "IPY_MODEL_937f9d4ea7a1492ba6ecb6cd70c5d928",
        "IPY_MODEL_04d1940dbb844054bc6edf739a437d3e"
       ],
       "layout": "IPY_MODEL_0aebbe7f10724cf0a1f0541781e77d40"
      }
     },
     "8dd58303e8124fbf85fa4cf66767b6d5": {
      "model_module": "@jupyter-widgets/base",
      "model_module_version": "1.2.0",
      "model_name": "LayoutModel",
      "state": {
       "margin": "0px 0px 10px 0px"
      }
     },
     "8fcf60896d424bb9a0111af9a3d98d3d": {
      "model_module": "@jupyter-widgets/base",
      "model_module_version": "1.2.0",
      "model_name": "LayoutModel",
      "state": {
       "width": "190px"
      }
     },
     "937f9d4ea7a1492ba6ecb6cd70c5d928": {
      "model_module": "@jupyter-widgets/controls",
      "model_module_version": "1.5.0",
      "model_name": "HTMLModel",
      "state": {
       "layout": "IPY_MODEL_c0f94bbf39fb47b6a830eefa4c36af1b",
       "style": "IPY_MODEL_ff10ef63181d4e0ba1b18b0e7023cabb",
       "value": "<h5>Queue</h5>"
      }
     },
     "abb75ca2d3a049f3841e39ffe2be6e4d": {
      "model_module": "@jupyter-widgets/controls",
      "model_module_version": "1.5.0",
      "model_name": "DescriptionStyleModel",
      "state": {
       "description_width": ""
      }
     },
     "ae92a2c7268a47b4b34ec5e76005b4bb": {
      "model_module": "@jupyter-widgets/base",
      "model_module_version": "1.2.0",
      "model_name": "LayoutModel",
      "state": {}
     },
     "c0f94bbf39fb47b6a830eefa4c36af1b": {
      "model_module": "@jupyter-widgets/base",
      "model_module_version": "1.2.0",
      "model_name": "LayoutModel",
      "state": {
       "width": "70px"
      }
     },
     "c9f2a97f095d427e99fc4cfe344a314d": {
      "model_module": "@jupyter-widgets/base",
      "model_module_version": "1.2.0",
      "model_name": "LayoutModel",
      "state": {
       "grid_area": "right",
       "padding": "0px 0px 0px 0px",
       "width": "70px"
      }
     },
     "d10593d8101a4d0ea8311fc2404d9d60": {
      "model_module": "@jupyter-widgets/controls",
      "model_module_version": "1.5.0",
      "model_name": "HTMLModel",
      "state": {
       "layout": "IPY_MODEL_8fcf60896d424bb9a0111af9a3d98d3d",
       "style": "IPY_MODEL_abb75ca2d3a049f3841e39ffe2be6e4d",
       "value": "<h5>Job ID</h5>"
      }
     },
     "e4d32367702f4ef9ab04ea2793a02e7e": {
      "model_module": "@jupyter-widgets/controls",
      "model_module_version": "1.5.0",
      "model_name": "ButtonModel",
      "state": {
       "button_style": "primary",
       "description": "Clear",
       "layout": "IPY_MODEL_c9f2a97f095d427e99fc4cfe344a314d",
       "style": "IPY_MODEL_537b39643a62466dae8e92786fb4e5cb"
      }
     },
     "fba3641110bb459c9e4472b956cc799b": {
      "model_module": "@jupyter-widgets/controls",
      "model_module_version": "1.5.0",
      "model_name": "HTMLModel",
      "state": {
       "layout": "IPY_MODEL_8dd58303e8124fbf85fa4cf66767b6d5",
       "style": "IPY_MODEL_38fce7d97fd44d139633901b3fcba7ed",
       "value": "<p style='font-family: IBM Plex Sans, Arial, Helvetica, sans-serif; font-size: 20px; font-weight: medium;'>Circuit Properties</p>"
      }
     },
     "fe735afb03a44a9c831f598876e6981d": {
      "model_module": "@jupyter-widgets/controls",
      "model_module_version": "1.5.0",
      "model_name": "HTMLModel",
      "state": {
       "layout": "IPY_MODEL_3406b04b776249968cc2a375b6150f15",
       "style": "IPY_MODEL_15ec60d9403a409fb3c32f4eb16e0fee",
       "value": "<h5>Status</h5>"
      }
     },
     "ff10ef63181d4e0ba1b18b0e7023cabb": {
      "model_module": "@jupyter-widgets/controls",
      "model_module_version": "1.5.0",
      "model_name": "DescriptionStyleModel",
      "state": {
       "description_width": ""
      }
     }
    },
    "version_major": 2,
    "version_minor": 0
   }
  }
 },
 "nbformat": 4,
 "nbformat_minor": 5
}
